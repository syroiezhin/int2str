{
 "cells": [
  {
   "cell_type": "code",
   "execution_count": 14,
   "metadata": {},
   "outputs": [
    {
     "name": "stdout",
     "output_type": "stream",
     "text": [
      "       __  ______ _       ________  __        _     \n",
      "      / / / / __ \\ |     / / __ \\ \\/ /  _    | |    \n",
      "     / /_/ / / / / | /| / / / / /\\  /  (_)   / /    \n",
      "    / __  / /_/ /| |/ |/ / /_/ / / /  _     / /     \n",
      "   /_/ /_/\\____/ |__/|__/_____/ /_/  (_)  _/_/      \n",
      "                                         /_/        \n",
      "\n"
     ]
    }
   ],
   "source": [
    "from pyfiglet import Figlet\n",
    "print(Figlet(font='slant').renderText(' HOWDY : ) '))"
   ]
  },
  {
   "cell_type": "markdown",
   "metadata": {},
   "source": [
    "# 🎁 BONUS"
   ]
  },
  {
   "cell_type": "code",
   "execution_count": 5,
   "metadata": {},
   "outputs": [
    {
     "name": "stdout",
     "output_type": "stream",
     "text": [
      "We have some data in a row: hhbhthab\n",
      "We don't care what sequence of data, we need to remove a certain number of certain characters, so we will create a dictionary for each character: {'a': 1, 'b': 2, 'h': 4, 't': 1}\n",
      "Now we can remove unnecessary characters in the list {'a': 0, 'b': 0, 'h': 4, 't': 1}\n",
      "And now write the result in a string: hhhht\n"
     ]
    }
   ],
   "source": [
    "symbols = 'hhbhthab'\n",
    "print('We have some data in a row:', symbols)\n",
    "\n",
    "d = dict(sorted({k:symbols.count(k) for k in set(symbols)}.items()))\n",
    "print('We don\\'t care what sequence of data, we need to remove a certain number of certain characters, so we will create a dictionary for each character:', d)\n",
    "\n",
    "for k in ['b','c','b','a','b']: \n",
    "    if k in d and d[k]>0:\n",
    "        d[k] = d[k] - 1\n",
    "print('Now we can remove unnecessary characters in the list', d)\n",
    "\n",
    "symbols = ''.join( [ k*v for k,v in d.items() ] )\n",
    "print('And now write the result in a string:', symbols)"
   ]
  },
  {
   "cell_type": "markdown",
   "metadata": {},
   "source": [
    "### 🥸 If U are sure that either the keys or the values of these keys don't exactly have duplicates, \n",
    "### then in this case U can quickly create a dictionary from two lists, \n",
    "### but set the key to the list that doesn't have duplicate values, otherwise U'll lose some of the data:"
   ]
  },
  {
   "cell_type": "code",
   "execution_count": 12,
   "metadata": {},
   "outputs": [
    {
     "name": "stdout",
     "output_type": "stream",
     "text": [
      "{'A': 0, 'B': 1, 'C': 2, 'D': 3, 'E': 4, 'F': 5, 'G': 6, 'H': 7, 'I': 8, 'J': 9, 'K': 10, 'L': 11, 'M': 12, 'N': 13, 'O': 14, 'P': 15, 'Q': 16, 'R': 17, 'S': 18, 'T': 19, 'U': 20, 'V': 21, 'W': 22, 'X': 23, 'Y': 24, 'Z': 25}\n",
      "{'A': 0, 'B': 1, 'C': 2, 'D': 3, 'E': 4, 'F': 5, 'G': 6, 'H': 7, 'I': 8, 'J': 9, 'K': 10, 'L': 11, 'M': 12, 'N': 13, 'O': 14, 'P': 15, 'Q': 16, 'R': 17, 'S': 18, 'T': 19, 'U': 20, 'V': 21, 'W': 22, 'X': 23, 'Y': 24, 'Z': 25}\n"
     ]
    }
   ],
   "source": [
    "from string import ascii_uppercase\n",
    "\n",
    "print( dict(zip(ascii_uppercase, range(len(ascii_uppercase)))) )\n",
    "\n",
    "print( { k:v for v,k in enumerate(ascii_uppercase)} )"
   ]
  },
  {
   "cell_type": "code",
   "execution_count": 3,
   "metadata": {},
   "outputs": [
    {
     "name": "stdout",
     "output_type": "stream",
     "text": [
      "\n",
      "That's what was:  .00,0500.0...0.600 .... .08000,,, \n",
      "\n",
      "( 4 / 33 ) : .00 ⮕  0\n",
      "( 19 / 33 ) : 0500.0...0.600 ⮕  500.006\n",
      "( 24 / 33 ) : .... ⮕  0\n",
      "( 31 / 33 ) : .08000 ⮕  0.08\n",
      "\n",
      "That's what now: 0, 500.006, 0, 0.08 \n",
      "\n"
     ]
    }
   ],
   "source": [
    "\n",
    "#**************************************************************************#\n",
    "#            _______                __  __                __               #\n",
    "#           / ____(_)   _____      / /_/ /_  ____ _____  / /_______        #\n",
    "#          / / __/ / | / / _ \\    / __/ __ \\/ __ `/ __ \\/ //_/ ___/        #\n",
    "#         / /_/ / /| |/ /  __/   / /_/ / / / /_/ / / / / ,< (__  )         #\n",
    "#         \\____/_/ |___/\\___/    \\__/_/ /_/\\__,_/_/ /_/_/|_/____/          #\n",
    "#                                                                          #\n",
    "#                           5168 7450 1701 5535                            #   \n",
    "#     ____       _             __     ____              __      __  _____  #\n",
    "#    / __ \\_____(_)   ______ _/ /_   / __ )____ _____  / /__   / / / /   | #\n",
    "#   / /_/ / ___/ / | / / __ `/ __/  / __  / __ `/ __ \\/ //_/  / / / / /| | #\n",
    "#  / ____/ /  / /| |/ / /_/ / /_   / /_/ / /_/ / / / / ,<    / /_/ / ___ | #\n",
    "# /_/   /_/  /_/ |___/\\__,_/\\__/  /_____/\\__,_/_/ /_/_/|_|   \\____/_/  |_| #                                                                   \n",
    "#**************************************************************************#\n",
    "\n",
    "str = \".00,0500.0...0.600 .... .08000,,,\"\n",
    "\n",
    "#//////////////#\n",
    "# string2array #\n",
    "#//////////////#\n",
    "\n",
    "def search(str):\n",
    "    result = []\n",
    "    enumerator = 0\n",
    "    while enumerator < len(str):\n",
    "        overwriting = ''\n",
    "        symbol = str[enumerator]\n",
    "        while '0' <= symbol <= '9' or symbol == '.':\n",
    "            overwriting += symbol\n",
    "            enumerator += 1\n",
    "            if enumerator < len(str): symbol = str[enumerator]\n",
    "        enumerator += 1\n",
    "        if overwriting != '': \n",
    "            print(\"(\",enumerator,\"/\",len(str),\") :\", overwriting, end=\" \")\n",
    "            #-------------------------------------------#\n",
    "            # remove all surplus dots  after  the comma #\n",
    "            #-------------------------------------------#\n",
    "            if ( n:=overwriting.count('.') ) > 1: \n",
    "                overwriting = (''.join(overwriting[::-1].split(\".\", n-1)))[::-1]\n",
    "            #----------------------------------------------------------------#\n",
    "            #           Pay attention, the sequence is important,            #\n",
    "            #   you need to make sure that we are not dealing with a point,  #\n",
    "            # otherwise we will not be able to process the point in a float. #\n",
    "            #----------------------------------------------------------------#\n",
    "            if overwriting == '.' or float(overwriting) == 0: overwriting = '0' \n",
    "            else: \n",
    "                #---------------------------------------------------#\n",
    "                # remove all surplus zeros before the decimal point #\n",
    "                #---------------------------------------------------#\n",
    "                while overwriting[0] == '0': overwriting = overwriting[1:]\n",
    "                #-----------------------------------------------#\n",
    "                # set the missing zero before the decimal point #\n",
    "                #-----------------------------------------------#\n",
    "                while overwriting[0] == '.': overwriting = (overwriting[::-1] + \"0\")[::-1]\n",
    "                #---------------------------------------------------#\n",
    "                # remove all surplus zeros after  the decimal point #\n",
    "                #---------------------------------------------------#\n",
    "                while overwriting[-1] == '0': overwriting = overwriting[:-1]\n",
    "                \n",
    "            result.append(overwriting)\n",
    "            print(\"⮕ \",overwriting)\n",
    "    return result\n",
    "\n",
    "if __name__== '__main__':\n",
    "    print( \"\\nThat's what was: \", str, \"\\n\" )\n",
    "    print( \"\\nThat's what now:\", ', '.join(search(str)), \"\\n\" )\n",
    "\n",
    "#=================================================#\n",
    "#        author = \"Valerij Syroiezhin\"            #\n",
    "#      telegram = '@NEU3RON'                      #\n",
    "#  author_email = 'v.syroiezhin@gmail.com'        #\n",
    "#           url = \"https://github.com/syroiezhin\" #\n",
    "#=================================================#"
   ]
  },
  {
   "cell_type": "code",
   "execution_count": 2,
   "metadata": {},
   "outputs": [
    {
     "name": "stdout",
     "output_type": "stream",
     "text": [
      "    it was in the file : ['0:1\\n', '1:2\\n', 'False\\n', '3:4\\n', '4:5\\n']\n",
      " it became in the file : ['0:1\\n', '1:2\\n', 'True\\n', '3:4\\n', '4:5\\n']\n"
     ]
    }
   ],
   "source": [
    "\n",
    "#///////////////////////////////#\n",
    "# replacing element in txt file #\n",
    "#///////////////////////////////#\n",
    "\n",
    "#------------------------------#\n",
    "# add some content to the file #\n",
    "#------------------------------#\n",
    "data = open('coins.txt', 'w').write(\"0:1\\n1:2\\nFalse\\n3:4\\n4:5\\n\")\n",
    "print( \"    it was in the file :\", data := open('coins.txt', 'r').readlines() )\n",
    "\n",
    "#--------------------------------------#\n",
    "# change one element in a specific row #\n",
    "#--------------------------------------#\n",
    "open('coins.txt', 'w').writelines([f\"{''.join(data[0:2])}\", 'True\\n', f\"{''.join(data[3:5])}\"])\n",
    "print( \" it became in the file :\", open('coins.txt', 'r').readlines() )\n",
    "\n",
    "#---------------------------------------------------------------------------#\n",
    "# delete the txt file so that the deletion process is visible in the folder #\n",
    "#---------------------------------------------------------------------------#\n",
    "from os import remove\n",
    "from time import sleep\n",
    "sleep(5)\n",
    "remove('coins.txt')\n",
    "\n",
    "#=================================================#\n",
    "#        author = \"Valerij Syroiezhin\"            #\n",
    "#      telegram = '@NEU3RON'                      #\n",
    "#  author_email = 'v.syroiezhin@gmail.com'        #\n",
    "#           url = \"https://github.com/syroiezhin\" #\n",
    "#=================================================#"
   ]
  },
  {
   "cell_type": "code",
   "execution_count": 1,
   "metadata": {},
   "outputs": [
    {
     "name": "stdout",
     "output_type": "stream",
     "text": [
      "\n",
      "String from file\n",
      "flmusdt trbusdt bnbusdt rsrusdt linkusdt zecusdt oneusdt flowusdt nearusdt duskusdt kavausdt yfiusdt btcdomusdt defiusdt linausdt litusdt etcusdt xrpusdt dotusdt oceanusdt zenusdt uniusdt aaveusdt antusdt chzusdt rvnusdt ensusdt peopleusdt avaxusdt ftmusdt bnxusdt atomusdt apeusdt lrcusdt grtusdt gtcusdt bandusdt maticusdt iotausdt klayusdt lptusdt qtumusdt enjusdt adausdt btcusdt wavesusdt ankrusdt ethusdt nknusdt axsusdt zrxusdt 1000shibusdt ctkusdt snxusdt mtlusdt storjusdt chrusdt audiousdt alphausdt jasmyusdt algousdt atausdt thetausdt galausdt belusdt runeusdt roseusdt ognusdt sandusdt galusdt tomousdt iotxusdt darusdt arpausdt zilusdt sxpusdt xtzusdt kncusdt mkrusdt ltcusdt hotusdt fttusdt xlmusdt dentusdt crvusdt stmxusdt solusdt celrusdt dgbusdt 1inchusdt xemusdt reefusdt cvcusdt celousdt dogeusdt manausdt arusdt srmusdt api3usdt sfpusdt eosusdt neousdt hntusdt dydxusdt imxusdt balusdt egldusdt hbarusdt woousdt ontusdt rayusdt maskusdt ksmusdt filusdt rlcusdt omgusdt unfiusdt iostusdt dashusdt 1000xecusdt sklusdt gmtusdt blzusdt cotiusdt opusdt ctsiusdt compusdt bchusdt xmrusdt bakeusdt sushiusdt trxusdt renusdt c98usdt icpusdt scusdt tlmusdt\n",
      "\n",
      "Received array from string\n",
      "['zrxusdt', 'zilusdt', 'zenusdt', 'zecusdt', 'yfiusdt', 'xtzusdt', 'xrpusdt', 'xmrusdt', 'xlmusdt', 'xemusdt', 'woousdt', 'wavesusdt', 'uniusdt', 'unfiusdt', 'trxusdt', 'trbusdt', 'tomousdt', 'tlmusdt', 'thetausdt', 'sxpusdt', 'sushiusdt', 'storjusdt', 'stmxusdt', 'srmusdt', 'solusdt', 'snxusdt', 'sklusdt', 'sfpusdt', 'scusdt', 'sandusdt', 'rvnusdt', 'runeusdt', 'rsrusdt', 'roseusdt', 'rlcusdt', 'renusdt', 'reefusdt', 'rayusdt', 'qtumusdt', 'peopleusdt', 'opusdt', 'ontusdt', 'oneusdt', 'omgusdt', 'ognusdt', 'oceanusdt', 'nknusdt', 'neousdt', 'nearusdt', 'mtlusdt', 'mkrusdt', 'maticusdt', 'maskusdt', 'manausdt', 'ltcusdt', 'lrcusdt', 'lptusdt', 'litusdt', 'linkusdt', 'linausdt', 'ksmusdt', 'kncusdt', 'klayusdt', 'kavausdt', 'jasmyusdt', 'iotxusdt', 'iotausdt', 'iostusdt', 'imxusdt', 'icpusdt', 'hotusdt', 'hntusdt', 'hbarusdt', 'gtcusdt', 'grtusdt', 'gmtusdt', 'galusdt', 'galausdt', 'fttusdt', 'ftmusdt', 'flowusdt', 'flmusdt', 'filusdt', 'ethusdt', 'etcusdt', 'eosusdt', 'ensusdt', 'enjusdt', 'egldusdt', 'dydxusdt', 'duskusdt', 'dotusdt', 'dogeusdt', 'dgbusdt', 'dentusdt', 'defiusdt', 'dashusdt', 'darusdt', 'cvcusdt', 'ctsiusdt', 'ctkusdt', 'crvusdt', 'cotiusdt', 'compusdt', 'chzusdt', 'chrusdt', 'celrusdt', 'celousdt', 'c98usdt', 'btcusdt', 'btcdomusdt', 'bnxusdt', 'bnbusdt', 'blzusdt', 'belusdt', 'bchusdt', 'bandusdt', 'balusdt', 'bakeusdt', 'axsusdt', 'avaxusdt', 'audiousdt', 'atomusdt', 'atausdt', 'arusdt', 'arpausdt', 'api3usdt', 'apeusdt', 'antusdt', 'ankrusdt', 'alphausdt', 'algousdt', 'adausdt', 'aaveusdt', '1inchusdt', '1000xecusdt', '1000shibusdt']\n",
      "\n",
      "Write array to file\n",
      "zrxusdt zilusdt zenusdt zecusdt yfiusdt xtzusdt xrpusdt xmrusdt xlmusdt xemusdt woousdt wavesusdt uniusdt unfiusdt trxusdt trbusdt tomousdt tlmusdt thetausdt sxpusdt sushiusdt storjusdt stmxusdt srmusdt solusdt snxusdt sklusdt sfpusdt scusdt sandusdt rvnusdt runeusdt rsrusdt roseusdt rlcusdt renusdt reefusdt rayusdt qtumusdt peopleusdt opusdt ontusdt oneusdt omgusdt ognusdt oceanusdt nknusdt neousdt nearusdt mtlusdt mkrusdt maticusdt maskusdt manausdt ltcusdt lrcusdt lptusdt litusdt linkusdt linausdt ksmusdt kncusdt klayusdt kavausdt jasmyusdt iotxusdt iotausdt iostusdt imxusdt icpusdt hotusdt hntusdt hbarusdt gtcusdt grtusdt gmtusdt galusdt galausdt fttusdt ftmusdt flowusdt flmusdt filusdt ethusdt etcusdt eosusdt ensusdt enjusdt egldusdt dydxusdt duskusdt dotusdt dogeusdt dgbusdt dentusdt defiusdt dashusdt darusdt cvcusdt ctsiusdt ctkusdt crvusdt cotiusdt compusdt chzusdt chrusdt celrusdt celousdt c98usdt btcusdt btcdomusdt bnxusdt bnbusdt blzusdt belusdt bchusdt bandusdt balusdt bakeusdt axsusdt avaxusdt audiousdt atomusdt atausdt arusdt arpausdt api3usdt apeusdt antusdt ankrusdt alphausdt algousdt adausdt aaveusdt 1inchusdt 1000xecusdt 1000shibusdt\n",
      "\n"
     ]
    }
   ],
   "source": [
    "\n",
    "#/////////////////////////////////////#\n",
    "# string to array and array to string #\n",
    "#/////////////////////////////////////#\n",
    "\n",
    "def txt_database():\n",
    "    #----------#\n",
    "    # the line #\n",
    "    #----------#\n",
    "    content= \"flmusdt trbusdt bnbusdt rsrusdt linkusdt zecusdt oneusdt flowusdt nearusdt duskusdt kavausdt yfiusdt btcdomusdt defiusdt linausdt litusdt etcusdt xrpusdt dotusdt oceanusdt zenusdt uniusdt aaveusdt antusdt chzusdt rvnusdt ensusdt peopleusdt avaxusdt ftmusdt bnxusdt atomusdt apeusdt lrcusdt grtusdt gtcusdt bandusdt maticusdt iotausdt klayusdt lptusdt qtumusdt enjusdt adausdt btcusdt wavesusdt ankrusdt ethusdt nknusdt axsusdt zrxusdt 1000shibusdt ctkusdt snxusdt mtlusdt storjusdt chrusdt audiousdt alphausdt jasmyusdt algousdt atausdt thetausdt galausdt belusdt runeusdt roseusdt ognusdt sandusdt galusdt tomousdt iotxusdt darusdt arpausdt zilusdt sxpusdt xtzusdt kncusdt mkrusdt ltcusdt hotusdt fttusdt xlmusdt dentusdt crvusdt stmxusdt solusdt celrusdt dgbusdt 1inchusdt xemusdt reefusdt cvcusdt celousdt dogeusdt manausdt arusdt srmusdt api3usdt sfpusdt eosusdt neousdt hntusdt dydxusdt imxusdt balusdt egldusdt hbarusdt woousdt ontusdt rayusdt maskusdt ksmusdt filusdt rlcusdt omgusdt unfiusdt iostusdt dashusdt 1000xecusdt sklusdt gmtusdt blzusdt cotiusdt opusdt ctsiusdt compusdt bchusdt xmrusdt bakeusdt sushiusdt trxusdt renusdt c98usdt icpusdt scusdt tlmusdt\"\n",
    "    #-----------------------#\n",
    "    # write string to array #\n",
    "    #-----------------------#\n",
    "    array = content.split()\n",
    "    #///////////////////////////////////////////////////////////////////#\n",
    "    # here we can do something with our array like reverse the contents #\n",
    "    #///////////////////////////////////////////////////////////////////#\n",
    "    array.sort(reverse=True)\n",
    "    #---------------------#\n",
    "    # write array to file #\n",
    "    #---------------------#\n",
    "    open('coins.txt', 'w').write(\" \".join(array))\n",
    "    #----------------------#\n",
    "    # get string from file #\n",
    "    #----------------------#\n",
    "    string = open('coins.txt', 'r').read()\n",
    "    #----------#\n",
    "    # the end! #\n",
    "    #----------#\n",
    "    print(f\"\\nString from file\\n{content}\\n\\nReceived array from string\\n{array}\\n\\nWrite array to file\\n{string}\\n\")\n",
    "\n",
    "\n",
    "\n",
    "#/////////////////////////////////////////////#\n",
    "# the beginning of the program!               #\n",
    "#/////////////////////////////////////////////#\n",
    "if __name__ == \"__main__\": txt_database()\n",
    "\n",
    "#=================================================#\n",
    "#        author = \"Valerij Syroiezhin\"            #\n",
    "#      telegram = '@NEU3RON'                      #\n",
    "#  author_email = 'v.syroiezhin@gmail.com'        #\n",
    "#           url = \"https://github.com/syroiezhin\" #\n",
    "#=================================================#\n"
   ]
  },
  {
   "cell_type": "code",
   "execution_count": 2,
   "metadata": {},
   "outputs": [
    {
     "name": "stdout",
     "output_type": "stream",
     "text": [
      "\n",
      "In total, there are 137 pieces in the array.\n",
      "\n",
      "String from file\n",
      "['1000shibusdt', '1000xecusdt', '1inchusdt', 'aaveusdt', 'adausdt', 'algousdt', 'alphausdt', 'ankrusdt', 'antusdt', 'apeusdt', 'api3usdt', 'arpausdt', 'arusdt', 'atausdt', 'atomusdt', 'audiousdt', 'avaxusdt', 'axsusdt', 'bakeusdt', 'balusdt', 'bandusdt', 'bchusdt', 'belusdt', 'blzusdt', 'bnbusdt', 'bnxusdt', 'btcdomusdt', 'btcusdt', 'c98usdt', 'celousdt', 'celrusdt', 'chrusdt', 'chzusdt', 'compusdt', 'cotiusdt', 'crvusdt', 'ctkusdt', 'ctsiusdt', 'cvcusdt', 'darusdt', 'dashusdt', 'defiusdt', 'dentusdt', 'dgbusdt', 'dogeusdt', 'dotusdt', 'duskusdt', 'dydxusdt', 'egldusdt', 'enjusdt', 'ensusdt', 'eosusdt', 'etcusdt', 'ethusdt', 'filusdt', 'flmusdt', 'flowusdt', 'ftmusdt', 'fttusdt', 'galausdt', 'galusdt', 'gmtusdt', 'grtusdt', 'gtcusdt', 'hbarusdt', 'hntusdt', 'hotusdt', 'icpusdt', 'imxusdt', 'iostusdt', 'iotausdt', 'iotxusdt', 'jasmyusdt', 'kavausdt', 'klayusdt', 'kncusdt', 'ksmusdt', 'linausdt', 'linkusdt', 'litusdt', 'lptusdt', 'lrcusdt', 'ltcusdt', 'manausdt', 'maskusdt', 'maticusdt', 'mkrusdt', 'mtlusdt', 'nearusdt', 'neousdt', 'nknusdt', 'oceanusdt', 'ognusdt', 'omgusdt', 'oneusdt', 'ontusdt', 'opusdt', 'peopleusdt', 'qtumusdt', 'rayusdt', 'reefusdt', 'renusdt', 'rlcusdt', 'roseusdt', 'rsrusdt', 'runeusdt', 'rvnusdt', 'sandusdt', 'scusdt', 'sfpusdt', 'sklusdt', 'snxusdt', 'solusdt', 'srmusdt', 'stmxusdt', 'storjusdt', 'sushiusdt', 'sxpusdt', 'thetausdt', 'tlmusdt', 'tomousdt', 'trbusdt', 'trxusdt', 'unfiusdt', 'uniusdt', 'wavesusdt', 'woousdt', 'xemusdt', 'xlmusdt', 'xmrusdt', 'xrpusdt', 'xtzusdt', 'yfiusdt', 'zecusdt', 'zenusdt', 'zilusdt', 'zrxusdt']\n",
      "\n",
      "Received array from string\n",
      "['1000shibusdt', '1000xecusdt', '1inchusdt', 'aaveusdt', 'adausdt', 'algousdt', 'alphausdt', 'ankrusdt', 'antusdt', 'apeusdt', 'api3usdt', 'arpausdt', 'arusdt', 'atausdt', 'atomusdt', 'audiousdt', 'avaxusdt', 'axsusdt', 'bakeusdt', 'balusdt', 'bandusdt', 'bchusdt', 'belusdt', 'blzusdt', 'bnbusdt', 'bnxusdt', 'btcdomusdt', 'btcusdt', 'c98usdt', 'celousdt', 'celrusdt', 'chrusdt', 'chzusdt', 'compusdt', 'cotiusdt', 'crvusdt', 'ctkusdt', 'ctsiusdt', 'cvcusdt', 'darusdt', 'dashusdt', 'defiusdt', 'dentusdt', 'dgbusdt', 'dogeusdt', 'dotusdt', 'duskusdt', 'dydxusdt', 'egldusdt', 'enjusdt', 'ensusdt', 'eosusdt', 'etcusdt', 'ethusdt', 'filusdt', 'flmusdt', 'flowusdt', 'ftmusdt', 'fttusdt', 'galausdt', 'galusdt', 'gmtusdt', 'grtusdt', 'gtcusdt', 'hbarusdt', 'hntusdt', 'hotusdt', 'icpusdt', 'imxusdt', 'iostusdt', 'iotausdt', 'iotxusdt', 'jasmyusdt', 'kavausdt', 'klayusdt', 'kncusdt', 'ksmusdt', 'linausdt', 'linkusdt', 'litusdt', 'lptusdt', 'lrcusdt', 'ltcusdt', 'manausdt', 'maskusdt', 'maticusdt', 'mkrusdt', 'mtlusdt', 'nearusdt', 'neousdt', 'nknusdt', 'oceanusdt', 'ognusdt', 'omgusdt', 'oneusdt', 'ontusdt', 'opusdt', 'peopleusdt', 'qtumusdt', 'rayusdt', 'reefusdt', 'renusdt', 'rlcusdt', 'roseusdt', 'rsrusdt', 'runeusdt', 'rvnusdt', 'sandusdt', 'scusdt', 'sfpusdt', 'sklusdt', 'snxusdt', 'solusdt', 'srmusdt', 'stmxusdt', 'storjusdt', 'sushiusdt', 'sxpusdt', 'thetausdt', 'tlmusdt', 'tomousdt', 'trbusdt', 'trxusdt', 'unfiusdt', 'uniusdt', 'wavesusdt', 'woousdt', 'xemusdt', 'xlmusdt', 'xmrusdt', 'xrpusdt', 'xtzusdt', 'yfiusdt', 'zecusdt', 'zenusdt', 'zilusdt', 'zrxusdt']\n",
      "\n",
      "The array is written to the file as a string\n",
      "['1000shibusdt', '1000xecusdt', '1inchusdt', 'aaveusdt', 'adausdt', 'algousdt', 'alphausdt', 'ankrusdt', 'antusdt', 'apeusdt', 'api3usdt', 'arpausdt', 'arusdt', 'atausdt', 'atomusdt', 'audiousdt', 'avaxusdt', 'axsusdt', 'bakeusdt', 'balusdt', 'bandusdt', 'bchusdt', 'belusdt', 'blzusdt', 'bnbusdt', 'bnxusdt', 'btcdomusdt', 'btcusdt', 'c98usdt', 'celousdt', 'celrusdt', 'chrusdt', 'chzusdt', 'compusdt', 'cotiusdt', 'crvusdt', 'ctkusdt', 'ctsiusdt', 'cvcusdt', 'darusdt', 'dashusdt', 'defiusdt', 'dentusdt', 'dgbusdt', 'dogeusdt', 'dotusdt', 'duskusdt', 'dydxusdt', 'egldusdt', 'enjusdt', 'ensusdt', 'eosusdt', 'etcusdt', 'ethusdt', 'filusdt', 'flmusdt', 'flowusdt', 'ftmusdt', 'fttusdt', 'galausdt', 'galusdt', 'gmtusdt', 'grtusdt', 'gtcusdt', 'hbarusdt', 'hntusdt', 'hotusdt', 'icpusdt', 'imxusdt', 'iostusdt', 'iotausdt', 'iotxusdt', 'jasmyusdt', 'kavausdt', 'klayusdt', 'kncusdt', 'ksmusdt', 'linausdt', 'linkusdt', 'litusdt', 'lptusdt', 'lrcusdt', 'ltcusdt', 'manausdt', 'maskusdt', 'maticusdt', 'mkrusdt', 'mtlusdt', 'nearusdt', 'neousdt', 'nknusdt', 'oceanusdt', 'ognusdt', 'omgusdt', 'oneusdt', 'ontusdt', 'opusdt', 'peopleusdt', 'qtumusdt', 'rayusdt', 'reefusdt', 'renusdt', 'rlcusdt', 'roseusdt', 'rsrusdt', 'runeusdt', 'rvnusdt', 'sandusdt', 'scusdt', 'sfpusdt', 'sklusdt', 'snxusdt', 'solusdt', 'srmusdt', 'stmxusdt', 'storjusdt', 'sushiusdt', 'sxpusdt', 'thetausdt', 'tlmusdt', 'tomousdt', 'trbusdt', 'trxusdt', 'unfiusdt', 'uniusdt', 'wavesusdt', 'woousdt', 'xemusdt', 'xlmusdt', 'xmrusdt', 'xrpusdt', 'xtzusdt', 'yfiusdt', 'zecusdt', 'zenusdt', 'zilusdt', 'zrxusdt']\n",
      "\n"
     ]
    }
   ],
   "source": [
    "\n",
    "#/////////////////////////////////////#\n",
    "# string to array and array to string #\n",
    "#/////////////////////////////////////#\n",
    "\n",
    "def txt_database():\n",
    "    #---------------#\n",
    "    # read the line #\n",
    "    #---------------#\n",
    "    content=open('coins.txt', 'r').read()\n",
    "    #-----------------------#\n",
    "    # write string to array #\n",
    "    #-----------------------#\n",
    "    array = content.replace('[', ' ').replace('\\'', ' ').replace('\\\"', ' ').replace(',', ' ').replace(']', ' ').split()\n",
    "\n",
    "    #///////////////////////////////////////////////////////////////////#\n",
    "    # here we can do something with our array like reverse the contents #\n",
    "    #///////////////////////////////////////////////////////////////////#\n",
    "\n",
    "    #---------------------------------------------------#\n",
    "    # template required to write a function on one line #\n",
    "    #---------------------------------------------------#\n",
    "    separator = \"\\', \\'\" \n",
    "    #---------------------#\n",
    "    # write array to file #\n",
    "    #---------------------#\n",
    "    open('coins.txt', 'w').write(f\"[\\'{separator.join(array)}\\']\")\n",
    "    #----------------------#\n",
    "    # get string from file #\n",
    "    #----------------------#\n",
    "    string = open('coins.txt', 'r').read()\n",
    "    #---------------------------------#\n",
    "    # the end! return for further use #\n",
    "    #---------------------------------#\n",
    "    return f\"\\nString from file\\n{content}\\n\\nReceived array from string\\n{array}\\n\\nThe array is written to the file as a string\\n{string}\\n\" \n",
    "\n",
    "\n",
    "\n",
    "#/////////////////////////////////////////////#\n",
    "# the beginning of the program!               #\n",
    "# everything that does not concern the method #\n",
    "# that I want to demonstrate, I will add here #\n",
    "#/////////////////////////////////////////////#\n",
    "\n",
    "if __name__ == \"__main__\": \n",
    "    coins = ['1000shibusdt','1000xecusdt','1inchusdt','aaveusdt','adausdt','algousdt','alphausdt','ankrusdt','antusdt','apeusdt','api3usdt','arpausdt','arusdt','atausdt','atomusdt','audiousdt','avaxusdt','axsusdt','bakeusdt','balusdt','bandusdt','bchusdt','belusdt','blzusdt','bnbusdt','bnxusdt','btcdomusdt','btcusdt','c98usdt','celousdt','celrusdt','chrusdt','chzusdt','compusdt','cotiusdt','crvusdt','ctkusdt','ctsiusdt','cvcusdt','darusdt','dashusdt','defiusdt','dentusdt','dgbusdt','dogeusdt','dotusdt','duskusdt','dydxusdt','egldusdt','enjusdt','ensusdt','eosusdt','etcusdt','ethusdt','filusdt','flmusdt','flowusdt','ftmusdt','fttusdt','galausdt','galusdt','gmtusdt','grtusdt','gtcusdt','hbarusdt','hntusdt','hotusdt','icpusdt','imxusdt','iostusdt','iotausdt','iotxusdt','jasmyusdt','kavausdt','klayusdt','kncusdt','ksmusdt','linausdt','linkusdt','litusdt','lptusdt','lrcusdt','ltcusdt','manausdt','maskusdt','maticusdt','mkrusdt','mtlusdt','nearusdt','neousdt','nknusdt','oceanusdt','ognusdt','omgusdt','oneusdt','ontusdt','opusdt','peopleusdt','qtumusdt','rayusdt','reefusdt','renusdt','rlcusdt','roseusdt','rsrusdt','runeusdt','rvnusdt','sandusdt','scusdt','sfpusdt','sklusdt','snxusdt','solusdt','srmusdt','stmxusdt','storjusdt','sushiusdt','sxpusdt','thetausdt','tlmusdt','tomousdt','trbusdt','trxusdt','unfiusdt','uniusdt','wavesusdt','woousdt','xemusdt','xlmusdt','xmrusdt','xrpusdt','xtzusdt','yfiusdt','zecusdt','zenusdt','zilusdt','zrxusdt']\n",
    "    print( f\"\\nIn total, there are {len(coins)} pieces in the array.\" )\n",
    "    #----------------------------#\n",
    "    # write an array to a string #\n",
    "    #----------------------------#\n",
    "    open('coins.txt', 'w').write(f\"{coins}\")\n",
    "    print( txt_database() )\n",
    "\n",
    "#=================================================#\n",
    "#        author = \"Valerij Syroiezhin\"            #\n",
    "#      telegram = '@NEU3RON'                      #\n",
    "#  author_email = 'v.syroiezhin@gmail.com'        #\n",
    "#           url = \"https://github.com/syroiezhin\" #\n",
    "#=================================================#\n"
   ]
  }
 ],
 "metadata": {
  "kernelspec": {
   "display_name": "Python 3.10.4 ('conda')",
   "language": "python",
   "name": "python3"
  },
  "language_info": {
   "codemirror_mode": {
    "name": "ipython",
    "version": 3
   },
   "file_extension": ".py",
   "mimetype": "text/x-python",
   "name": "python",
   "nbconvert_exporter": "python",
   "pygments_lexer": "ipython3",
   "version": "3.8.8"
  },
  "orig_nbformat": 4,
  "vscode": {
   "interpreter": {
    "hash": "befc73cd20c9f47f6f1d1f5702fb73f71fe745ae52fe81d57d15cca348601a15"
   }
  }
 },
 "nbformat": 4,
 "nbformat_minor": 2
}

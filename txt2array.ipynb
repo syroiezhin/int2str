{
 "cells": [
  {
   "cell_type": "code",
   "execution_count": 78,
   "metadata": {},
   "outputs": [
    {
     "name": "stdout",
     "output_type": "stream",
     "text": [
      "\n",
      "In total, there are 137 pieces in the array.\n",
      "\n",
      "String from file:\n",
      "['1000shibusdt', '1000xecusdt', '1inchusdt', 'aaveusdt', 'adausdt', 'algousdt', 'alphausdt', 'ankrusdt', 'antusdt', 'apeusdt', 'api3usdt', 'arpausdt', 'arusdt', 'atausdt', 'atomusdt', 'audiousdt', 'avaxusdt', 'axsusdt', 'bakeusdt', 'balusdt', 'bandusdt', 'bchusdt', 'belusdt', 'blzusdt', 'bnbusdt', 'bnxusdt', 'btcdomusdt', 'btcusdt', 'c98usdt', 'celousdt', 'celrusdt', 'chrusdt', 'chzusdt', 'compusdt', 'cotiusdt', 'crvusdt', 'ctkusdt', 'ctsiusdt', 'cvcusdt', 'darusdt', 'dashusdt', 'defiusdt', 'dentusdt', 'dgbusdt', 'dogeusdt', 'dotusdt', 'duskusdt', 'dydxusdt', 'egldusdt', 'enjusdt', 'ensusdt', 'eosusdt', 'etcusdt', 'ethusdt', 'filusdt', 'flmusdt', 'flowusdt', 'ftmusdt', 'fttusdt', 'galausdt', 'galusdt', 'gmtusdt', 'grtusdt', 'gtcusdt', 'hbarusdt', 'hntusdt', 'hotusdt', 'icpusdt', 'imxusdt', 'iostusdt', 'iotausdt', 'iotxusdt', 'jasmyusdt', 'kavausdt', 'klayusdt', 'kncusdt', 'ksmusdt', 'linausdt', 'linkusdt', 'litusdt', 'lptusdt', 'lrcusdt', 'ltcusdt', 'manausdt', 'maskusdt', 'maticusdt', 'mkrusdt', 'mtlusdt', 'nearusdt', 'neousdt', 'nknusdt', 'oceanusdt', 'ognusdt', 'omgusdt', 'oneusdt', 'ontusdt', 'opusdt', 'peopleusdt', 'qtumusdt', 'rayusdt', 'reefusdt', 'renusdt', 'rlcusdt', 'roseusdt', 'rsrusdt', 'runeusdt', 'rvnusdt', 'sandusdt', 'scusdt', 'sfpusdt', 'sklusdt', 'snxusdt', 'solusdt', 'srmusdt', 'stmxusdt', 'storjusdt', 'sushiusdt', 'sxpusdt', 'thetausdt', 'tlmusdt', 'tomousdt', 'trbusdt', 'trxusdt', 'unfiusdt', 'uniusdt', 'wavesusdt', 'woousdt', 'xemusdt', 'xlmusdt', 'xmrusdt', 'xrpusdt', 'xtzusdt', 'yfiusdt', 'zecusdt', 'zenusdt', 'zilusdt', 'zrxusdt']\n",
      "\n",
      "Received array from string\n",
      "['1000shibusdt', '1000xecusdt', '1inchusdt', 'aaveusdt', 'adausdt', 'algousdt', 'alphausdt', 'ankrusdt', 'antusdt', 'apeusdt', 'api3usdt', 'arpausdt', 'arusdt', 'atausdt', 'atomusdt', 'audiousdt', 'avaxusdt', 'axsusdt', 'bakeusdt', 'balusdt', 'bandusdt', 'bchusdt', 'belusdt', 'blzusdt', 'bnbusdt', 'bnxusdt', 'btcdomusdt', 'btcusdt', 'c98usdt', 'celousdt', 'celrusdt', 'chrusdt', 'chzusdt', 'compusdt', 'cotiusdt', 'crvusdt', 'ctkusdt', 'ctsiusdt', 'cvcusdt', 'darusdt', 'dashusdt', 'defiusdt', 'dentusdt', 'dgbusdt', 'dogeusdt', 'dotusdt', 'duskusdt', 'dydxusdt', 'egldusdt', 'enjusdt', 'ensusdt', 'eosusdt', 'etcusdt', 'ethusdt', 'filusdt', 'flmusdt', 'flowusdt', 'ftmusdt', 'fttusdt', 'galausdt', 'galusdt', 'gmtusdt', 'grtusdt', 'gtcusdt', 'hbarusdt', 'hntusdt', 'hotusdt', 'icpusdt', 'imxusdt', 'iostusdt', 'iotausdt', 'iotxusdt', 'jasmyusdt', 'kavausdt', 'klayusdt', 'kncusdt', 'ksmusdt', 'linausdt', 'linkusdt', 'litusdt', 'lptusdt', 'lrcusdt', 'ltcusdt', 'manausdt', 'maskusdt', 'maticusdt', 'mkrusdt', 'mtlusdt', 'nearusdt', 'neousdt', 'nknusdt', 'oceanusdt', 'ognusdt', 'omgusdt', 'oneusdt', 'ontusdt', 'opusdt', 'peopleusdt', 'qtumusdt', 'rayusdt', 'reefusdt', 'renusdt', 'rlcusdt', 'roseusdt', 'rsrusdt', 'runeusdt', 'rvnusdt', 'sandusdt', 'scusdt', 'sfpusdt', 'sklusdt', 'snxusdt', 'solusdt', 'srmusdt', 'stmxusdt', 'storjusdt', 'sushiusdt', 'sxpusdt', 'thetausdt', 'tlmusdt', 'tomousdt', 'trbusdt', 'trxusdt', 'unfiusdt', 'uniusdt', 'wavesusdt', 'woousdt', 'xemusdt', 'xlmusdt', 'xmrusdt', 'xrpusdt', 'xtzusdt', 'yfiusdt', 'zecusdt', 'zenusdt', 'zilusdt', 'zrxusdt']\n",
      "\n",
      "The array is written to the file as a string\n",
      "['1000shibusdt', '1000xecusdt', '1inchusdt', 'aaveusdt', 'adausdt', 'algousdt', 'alphausdt', 'ankrusdt', 'antusdt', 'apeusdt', 'api3usdt', 'arpausdt', 'arusdt', 'atausdt', 'atomusdt', 'audiousdt', 'avaxusdt', 'axsusdt', 'bakeusdt', 'balusdt', 'bandusdt', 'bchusdt', 'belusdt', 'blzusdt', 'bnbusdt', 'bnxusdt', 'btcdomusdt', 'btcusdt', 'c98usdt', 'celousdt', 'celrusdt', 'chrusdt', 'chzusdt', 'compusdt', 'cotiusdt', 'crvusdt', 'ctkusdt', 'ctsiusdt', 'cvcusdt', 'darusdt', 'dashusdt', 'defiusdt', 'dentusdt', 'dgbusdt', 'dogeusdt', 'dotusdt', 'duskusdt', 'dydxusdt', 'egldusdt', 'enjusdt', 'ensusdt', 'eosusdt', 'etcusdt', 'ethusdt', 'filusdt', 'flmusdt', 'flowusdt', 'ftmusdt', 'fttusdt', 'galausdt', 'galusdt', 'gmtusdt', 'grtusdt', 'gtcusdt', 'hbarusdt', 'hntusdt', 'hotusdt', 'icpusdt', 'imxusdt', 'iostusdt', 'iotausdt', 'iotxusdt', 'jasmyusdt', 'kavausdt', 'klayusdt', 'kncusdt', 'ksmusdt', 'linausdt', 'linkusdt', 'litusdt', 'lptusdt', 'lrcusdt', 'ltcusdt', 'manausdt', 'maskusdt', 'maticusdt', 'mkrusdt', 'mtlusdt', 'nearusdt', 'neousdt', 'nknusdt', 'oceanusdt', 'ognusdt', 'omgusdt', 'oneusdt', 'ontusdt', 'opusdt', 'peopleusdt', 'qtumusdt', 'rayusdt', 'reefusdt', 'renusdt', 'rlcusdt', 'roseusdt', 'rsrusdt', 'runeusdt', 'rvnusdt', 'sandusdt', 'scusdt', 'sfpusdt', 'sklusdt', 'snxusdt', 'solusdt', 'srmusdt', 'stmxusdt', 'storjusdt', 'sushiusdt', 'sxpusdt', 'thetausdt', 'tlmusdt', 'tomousdt', 'trbusdt', 'trxusdt', 'unfiusdt', 'uniusdt', 'wavesusdt', 'woousdt', 'xemusdt', 'xlmusdt', 'xmrusdt', 'xrpusdt', 'xtzusdt', 'yfiusdt', 'zecusdt', 'zenusdt', 'zilusdt', 'zrxusdt']\n",
      "\n"
     ]
    }
   ],
   "source": [
    "\n",
    "def txt_database():\n",
    "    #---------------#\n",
    "    # read the line #\n",
    "    #---------------#\n",
    "    content=open('coins.txt', 'r').read()\n",
    "    #-----------------------#\n",
    "    # write string to array #\n",
    "    #-----------------------#\n",
    "    array = content.replace('[', ' ').replace('\\'', ' ').replace('\\\"', ' ').replace(',', ' ').replace(']', ' ').split()\n",
    "\n",
    "    #///////////////////////////////////////////////////////////////////#\n",
    "    # here we can do something with our array like reverse the contents #\n",
    "    #///////////////////////////////////////////////////////////////////#\n",
    "\n",
    "    #---------------------------------------------------#\n",
    "    # template required to write a function on one line #\n",
    "    #---------------------------------------------------#\n",
    "    separator = \"\\', \\'\" \n",
    "    #---------------------#\n",
    "    # write array to file #\n",
    "    #---------------------#\n",
    "    open('coins.txt', 'w').write(f\"[\\'{separator.join(array)}\\']\")\n",
    "    #----------------------#\n",
    "    # get string from file #\n",
    "    #----------------------#\n",
    "    string = open('coins.txt', 'r').read()\n",
    "    #---------------------------------#\n",
    "    # the end! return for further use #\n",
    "    #---------------------------------#\n",
    "    return f\"\\nString from file:\\n{content}\\n\\nReceived array from string\\n{array}\\n\\nThe array is written to the file as a string\\n{string}\\n\" \n",
    "\n",
    "\n",
    "\n",
    "#/////////////////////////////////////////////#\n",
    "# the beginning of the program!               #\n",
    "# everything that does not concern the method #\n",
    "# that I want to demonstrate, I will add here #\n",
    "#/////////////////////////////////////////////#\n",
    "\n",
    "if __name__ == \"__main__\": \n",
    "    coins = ['1000shibusdt','1000xecusdt','1inchusdt','aaveusdt','adausdt','algousdt','alphausdt','ankrusdt','antusdt','apeusdt','api3usdt','arpausdt','arusdt','atausdt','atomusdt','audiousdt','avaxusdt','axsusdt','bakeusdt','balusdt','bandusdt','bchusdt','belusdt','blzusdt','bnbusdt','bnxusdt','btcdomusdt','btcusdt','c98usdt','celousdt','celrusdt','chrusdt','chzusdt','compusdt','cotiusdt','crvusdt','ctkusdt','ctsiusdt','cvcusdt','darusdt','dashusdt','defiusdt','dentusdt','dgbusdt','dogeusdt','dotusdt','duskusdt','dydxusdt','egldusdt','enjusdt','ensusdt','eosusdt','etcusdt','ethusdt','filusdt','flmusdt','flowusdt','ftmusdt','fttusdt','galausdt','galusdt','gmtusdt','grtusdt','gtcusdt','hbarusdt','hntusdt','hotusdt','icpusdt','imxusdt','iostusdt','iotausdt','iotxusdt','jasmyusdt','kavausdt','klayusdt','kncusdt','ksmusdt','linausdt','linkusdt','litusdt','lptusdt','lrcusdt','ltcusdt','manausdt','maskusdt','maticusdt','mkrusdt','mtlusdt','nearusdt','neousdt','nknusdt','oceanusdt','ognusdt','omgusdt','oneusdt','ontusdt','opusdt','peopleusdt','qtumusdt','rayusdt','reefusdt','renusdt','rlcusdt','roseusdt','rsrusdt','runeusdt','rvnusdt','sandusdt','scusdt','sfpusdt','sklusdt','snxusdt','solusdt','srmusdt','stmxusdt','storjusdt','sushiusdt','sxpusdt','thetausdt','tlmusdt','tomousdt','trbusdt','trxusdt','unfiusdt','uniusdt','wavesusdt','woousdt','xemusdt','xlmusdt','xmrusdt','xrpusdt','xtzusdt','yfiusdt','zecusdt','zenusdt','zilusdt','zrxusdt']\n",
    "    print( f\"\\nIn total, there are {len(coins)} pieces in the array.\" )\n",
    "    #----------------------------#\n",
    "    # write an array to a string #\n",
    "    #----------------------------#\n",
    "    open('coins.txt', 'w').write(f\"{coins}\")\n",
    "    print( txt_database() )\n",
    "\n",
    "#=================================================#\n",
    "#        author = \"Valerij Syroiezhin\"            #\n",
    "#      telegram = '@NEU3RON'                      #\n",
    "#  author_email = 'v.syroiezhin@gmail.com'        #\n",
    "#           url = \"https://github.com/syroiezhin\" #\n",
    "#=================================================#\n"
   ]
  }
 ],
 "metadata": {
  "kernelspec": {
   "display_name": "Python 3.10.4 ('conda')",
   "language": "python",
   "name": "python3"
  },
  "language_info": {
   "codemirror_mode": {
    "name": "ipython",
    "version": 3
   },
   "file_extension": ".py",
   "mimetype": "text/x-python",
   "name": "python",
   "nbconvert_exporter": "python",
   "pygments_lexer": "ipython3",
   "version": "3.10.4"
  },
  "orig_nbformat": 4,
  "vscode": {
   "interpreter": {
    "hash": "befc73cd20c9f47f6f1d1f5702fb73f71fe745ae52fe81d57d15cca348601a15"
   }
  }
 },
 "nbformat": 4,
 "nbformat_minor": 2
}
